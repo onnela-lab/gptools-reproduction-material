{
 "cells": [
  {
   "cell_type": "markdown",
   "id": "eb2c936b",
   "metadata": {},
   "source": [
    "# Linear regression example from Section 2 of the manuscript"
   ]
  },
  {
   "cell_type": "code",
   "execution_count": null,
   "id": "42ecaa12",
   "metadata": {},
   "outputs": [],
   "source": [
    "import numpy as np\n",
    "\n",
    "np.random.seed(0)\n",
    "n = 100\n",
    "p = 3\n",
    "X = np.random.normal(0, 1, (n, p))\n",
    "theta = np.random.normal(0, 1, p)\n",
    "sigma = np.random.gamma(2, 2)\n",
    "y = np.random.normal(X @ theta, sigma)\n",
    "\n",
    "print(f\"coefficients: {theta}\")\n",
    "print(f\"observation noise scale: {sigma}\")"
   ]
  },
  {
   "cell_type": "code",
   "execution_count": null,
   "id": "07069f61",
   "metadata": {},
   "outputs": [],
   "source": [
    "import cmdstanpy\n",
    "\n",
    "model = cmdstanpy.CmdStanModel(stan_file=\"linear.stan\")\n",
    "fit = model.sample(data={\"n\": n, \"p\": p, \"X\": X, \"y\": y}, seed=0)\n",
    "\n",
    "print(fit.summary())"
   ]
  }
 ],
 "metadata": {
  "kernelspec": {
   "display_name": "Python 3 (ipykernel)",
   "language": "python",
   "name": "python3"
  }
 },
 "nbformat": 4,
 "nbformat_minor": 5
}
