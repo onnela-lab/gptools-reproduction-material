{
 "cells": [
  {
   "cell_type": "code",
   "execution_count": null,
   "id": "d2b9dac2",
   "metadata": {},
   "outputs": [],
   "source": [
    ">>> import cmdstanpy\n",
    ">>> from gptools.stan import get_include\n",
    ">>>\n",
    ">>> model = cmdstanpy.CmdStanModel(\n",
    "...     stan_file=\"getting_started.stan\",\n",
    "...     stanc_options={\"include-paths\": get_include()},\n",
    "... )\n",
    ">>> fit = model.sample(\n",
    "...     data = {\"n\": 100, \"sigma\": 1, \"length_scale\": 0.1, \"period\": 1},\n",
    "...     chains=1,\n",
    "...     iter_warmup=500,\n",
    "...     iter_sampling=50,\n",
    "... )\n",
    ">>> fit.f.shape"
   ]
  },
  {
   "cell_type": "markdown",
   "id": "34ffcd17",
   "metadata": {},
   "source": [
    "Expected output: `(50, 100)`"
   ]
  }
 ],
 "metadata": {
  "kernelspec": {
   "display_name": "Python 3 (ipykernel)",
   "language": "python",
   "name": "python3"
  }
 },
 "nbformat": 4,
 "nbformat_minor": 5
}
